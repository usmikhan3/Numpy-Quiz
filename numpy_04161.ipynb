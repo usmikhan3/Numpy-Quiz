{
 "cells": [
  {
   "cell_type": "code",
   "execution_count": 6,
   "metadata": {},
   "outputs": [],
   "source": [
    "import cv2\n",
    "import numpy as np\n",
    "\n",
    "imagedata_crop = cv2.imread('muk.jpg')\n",
    "height, width = imagedata_crop.shape[:2]\n",
    "\n",
    "start_row, start_col = int(height * .20), int(width * .20)\n",
    "\n",
    "end_row, end_col = int(height * .80),int(width * .80)\n",
    "\n",
    "cropped_image = imagedata_crop[start_row:end_row, start_col:end_col]\n",
    "\n",
    "cv2.imshow(\"Original Image\", imagedata_crop)\n",
    "cv2.waitKey(0)\n",
    "cv2.imshow(\"CroppedImage\", cropped_image)\n",
    "cv2.waitKey(0)\n",
    "cv2.destroyAllWindows()"
   ]
  },
  {
   "cell_type": "code",
   "execution_count": 22,
   "metadata": {},
   "outputs": [
    {
     "data": {
      "text/plain": [
       "False"
      ]
     },
     "execution_count": 22,
     "metadata": {},
     "output_type": "execute_result"
    }
   ],
   "source": [
    "import cv2\n",
    "import numpy as np\n",
    "\n",
    "im1 = cv2.imread('img1.jpg')\n",
    "im2 = cv2.imread('img2.jpg')\n",
    "\n",
    "im_v = cv2.vconcat([im1, im1])\n",
    "cv2.imwrite('opencv_vconcat.jpg', im_v)\n",
    "\n",
    "im_v_np = np.tile(im1, (2, 1, 1))\n",
    "cv2.imwrite('data/dst/opencv_vconcat_np.jpg', im_v_np)"
   ]
  },
  {
   "cell_type": "code",
   "execution_count": null,
   "metadata": {},
   "outputs": [],
   "source": []
  },
  {
   "cell_type": "code",
   "execution_count": null,
   "metadata": {},
   "outputs": [],
   "source": []
  },
  {
   "cell_type": "code",
   "execution_count": null,
   "metadata": {},
   "outputs": [],
   "source": []
  },
  {
   "cell_type": "code",
   "execution_count": null,
   "metadata": {},
   "outputs": [],
   "source": []
  }
 ],
 "metadata": {
  "kernelspec": {
   "display_name": "Python 3",
   "language": "python",
   "name": "python3"
  },
  "language_info": {
   "codemirror_mode": {
    "name": "ipython",
    "version": 3
   },
   "file_extension": ".py",
   "mimetype": "text/x-python",
   "name": "python",
   "nbconvert_exporter": "python",
   "pygments_lexer": "ipython3",
   "version": "3.7.6"
  }
 },
 "nbformat": 4,
 "nbformat_minor": 4
}
